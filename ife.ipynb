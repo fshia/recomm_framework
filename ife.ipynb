{
 "cells": [
  {
   "cell_type": "markdown",
   "metadata": {},
   "source": [
    "\n",
    "#  <br/><br/><br/> An integrated framework for evaluating recommender engines using the developed package"
   ]
  },
  {
   "cell_type": "markdown",
   "metadata": {},
   "source": [
    "### *Fan Xia*"
   ]
  },
  {
   "cell_type": "markdown",
   "metadata": {},
   "source": [
    "#### Last edited on 06/2023 by Fan X."
   ]
  },
  {
   "cell_type": "markdown",
   "metadata": {},
   "source": [
    "### Introduction\n",
    "#### An integrated framework for evaluating various recommendation algorithms is developed using the developed library. The developed package includes metric, dataset, evaluator, comparer and deployer modules. Here, I use MovieLens latest small dataset to test the package."
   ]
  },
  {
   "cell_type": "markdown",
   "metadata": {},
   "source": [
    "### Import required packages"
   ]
  },
  {
   "cell_type": "code",
   "execution_count": 1,
   "metadata": {},
   "outputs": [],
   "source": [
    "%matplotlib inline"
   ]
  },
  {
   "cell_type": "code",
   "execution_count": 2,
   "metadata": {},
   "outputs": [],
   "source": [
    "import pandas as pd\n",
    "import numpy as np"
   ]
  },
  {
   "cell_type": "markdown",
   "metadata": {},
   "source": [
    "### Data preparation\n",
    "#### Data preparation includes reading raw data from disk that are used for model building, checking missing data, cleanning up duplicated and abnormal data and creating cleaned data for recommender system."
   ]
  },
  {
   "cell_type": "code",
   "execution_count": 3,
   "metadata": {},
   "outputs": [
    {
     "data": {
      "text/html": [
       "<div>\n",
       "<style scoped>\n",
       "    .dataframe tbody tr th:only-of-type {\n",
       "        vertical-align: middle;\n",
       "    }\n",
       "\n",
       "    .dataframe tbody tr th {\n",
       "        vertical-align: top;\n",
       "    }\n",
       "\n",
       "    .dataframe thead th {\n",
       "        text-align: right;\n",
       "    }\n",
       "</style>\n",
       "<table border=\"1\" class=\"dataframe\">\n",
       "  <thead>\n",
       "    <tr style=\"text-align: right;\">\n",
       "      <th></th>\n",
       "      <th>userId</th>\n",
       "      <th>movieId</th>\n",
       "      <th>rating</th>\n",
       "    </tr>\n",
       "  </thead>\n",
       "  <tbody>\n",
       "    <tr>\n",
       "      <th>0</th>\n",
       "      <td>1</td>\n",
       "      <td>31</td>\n",
       "      <td>2.5</td>\n",
       "    </tr>\n",
       "    <tr>\n",
       "      <th>1</th>\n",
       "      <td>1</td>\n",
       "      <td>1029</td>\n",
       "      <td>3.0</td>\n",
       "    </tr>\n",
       "    <tr>\n",
       "      <th>2</th>\n",
       "      <td>1</td>\n",
       "      <td>1061</td>\n",
       "      <td>3.0</td>\n",
       "    </tr>\n",
       "    <tr>\n",
       "      <th>3</th>\n",
       "      <td>1</td>\n",
       "      <td>1129</td>\n",
       "      <td>2.0</td>\n",
       "    </tr>\n",
       "    <tr>\n",
       "      <th>4</th>\n",
       "      <td>1</td>\n",
       "      <td>1172</td>\n",
       "      <td>4.0</td>\n",
       "    </tr>\n",
       "    <tr>\n",
       "      <th>...</th>\n",
       "      <td>...</td>\n",
       "      <td>...</td>\n",
       "      <td>...</td>\n",
       "    </tr>\n",
       "    <tr>\n",
       "      <th>99999</th>\n",
       "      <td>671</td>\n",
       "      <td>6268</td>\n",
       "      <td>2.5</td>\n",
       "    </tr>\n",
       "    <tr>\n",
       "      <th>100000</th>\n",
       "      <td>671</td>\n",
       "      <td>6269</td>\n",
       "      <td>4.0</td>\n",
       "    </tr>\n",
       "    <tr>\n",
       "      <th>100001</th>\n",
       "      <td>671</td>\n",
       "      <td>6365</td>\n",
       "      <td>4.0</td>\n",
       "    </tr>\n",
       "    <tr>\n",
       "      <th>100002</th>\n",
       "      <td>671</td>\n",
       "      <td>6385</td>\n",
       "      <td>2.5</td>\n",
       "    </tr>\n",
       "    <tr>\n",
       "      <th>100003</th>\n",
       "      <td>671</td>\n",
       "      <td>6565</td>\n",
       "      <td>3.5</td>\n",
       "    </tr>\n",
       "  </tbody>\n",
       "</table>\n",
       "<p>100004 rows × 3 columns</p>\n",
       "</div>"
      ],
      "text/plain": [
       "        userId  movieId  rating\n",
       "0            1       31     2.5\n",
       "1            1     1029     3.0\n",
       "2            1     1061     3.0\n",
       "3            1     1129     2.0\n",
       "4            1     1172     4.0\n",
       "...        ...      ...     ...\n",
       "99999      671     6268     2.5\n",
       "100000     671     6269     4.0\n",
       "100001     671     6365     4.0\n",
       "100002     671     6385     2.5\n",
       "100003     671     6565     3.5\n",
       "\n",
       "[100004 rows x 3 columns]"
      ]
     },
     "execution_count": 3,
     "metadata": {},
     "output_type": "execute_result"
    }
   ],
   "source": [
    "# Load clean data from disk for comparison\n",
    "filename = '../data/ml_small/ratings_c1.csv'\n",
    "data = pd.read_csv(filename)\n",
    "\n",
    "data"
   ]
  },
  {
   "cell_type": "code",
   "execution_count": 4,
   "metadata": {},
   "outputs": [
    {
     "data": {
      "text/html": [
       "<div>\n",
       "<style scoped>\n",
       "    .dataframe tbody tr th:only-of-type {\n",
       "        vertical-align: middle;\n",
       "    }\n",
       "\n",
       "    .dataframe tbody tr th {\n",
       "        vertical-align: top;\n",
       "    }\n",
       "\n",
       "    .dataframe thead th {\n",
       "        text-align: right;\n",
       "    }\n",
       "</style>\n",
       "<table border=\"1\" class=\"dataframe\">\n",
       "  <thead>\n",
       "    <tr style=\"text-align: right;\">\n",
       "      <th></th>\n",
       "      <th>rank</th>\n",
       "    </tr>\n",
       "    <tr>\n",
       "      <th>index</th>\n",
       "      <th></th>\n",
       "    </tr>\n",
       "  </thead>\n",
       "  <tbody>\n",
       "    <tr>\n",
       "      <th>1</th>\n",
       "      <td>1</td>\n",
       "    </tr>\n",
       "    <tr>\n",
       "      <th>2</th>\n",
       "      <td>2</td>\n",
       "    </tr>\n",
       "    <tr>\n",
       "      <th>3</th>\n",
       "      <td>3</td>\n",
       "    </tr>\n",
       "    <tr>\n",
       "      <th>4</th>\n",
       "      <td>4</td>\n",
       "    </tr>\n",
       "    <tr>\n",
       "      <th>5</th>\n",
       "      <td>5</td>\n",
       "    </tr>\n",
       "    <tr>\n",
       "      <th>...</th>\n",
       "      <td>...</td>\n",
       "    </tr>\n",
       "    <tr>\n",
       "      <th>161944</th>\n",
       "      <td>9062</td>\n",
       "    </tr>\n",
       "    <tr>\n",
       "      <th>162376</th>\n",
       "      <td>9063</td>\n",
       "    </tr>\n",
       "    <tr>\n",
       "      <th>162542</th>\n",
       "      <td>9064</td>\n",
       "    </tr>\n",
       "    <tr>\n",
       "      <th>162672</th>\n",
       "      <td>9065</td>\n",
       "    </tr>\n",
       "    <tr>\n",
       "      <th>163949</th>\n",
       "      <td>9066</td>\n",
       "    </tr>\n",
       "  </tbody>\n",
       "</table>\n",
       "<p>9066 rows × 1 columns</p>\n",
       "</div>"
      ],
      "text/plain": [
       "        rank\n",
       "index       \n",
       "1          1\n",
       "2          2\n",
       "3          3\n",
       "4          4\n",
       "5          5\n",
       "...      ...\n",
       "161944  9062\n",
       "162376  9063\n",
       "162542  9064\n",
       "162672  9065\n",
       "163949  9066\n",
       "\n",
       "[9066 rows x 1 columns]"
      ]
     },
     "execution_count": 4,
     "metadata": {},
     "output_type": "execute_result"
    }
   ],
   "source": [
    "# Build popularity rankings data frame\n",
    "ranking_data = pd.DataFrame(data['movieId'].value_counts().sort_index(ascending=True)).reset_index(drop=False)\n",
    "ranking_data['rank'] = ranking_data.index + 1\n",
    "ranking_data.set_index(\"index\", drop=True, inplace=True)\n",
    "ranking_data = ranking_data.drop('movieId', axis=1)\n",
    "\n",
    "ranking_data"
   ]
  },
  {
   "cell_type": "code",
   "execution_count": 5,
   "metadata": {},
   "outputs": [
    {
     "data": {
      "text/plain": [
       "9065"
      ]
     },
     "execution_count": 5,
     "metadata": {},
     "output_type": "execute_result"
    }
   ],
   "source": [
    "# Build popularity ranking dictionary\n",
    "rankings = ranking_data.T.to_dict('list')\n",
    "for k, v in rankings.items():\n",
    "    rankings[k] = int(v[0])\n",
    "rankings[162672]"
   ]
  },
  {
   "cell_type": "code",
   "execution_count": 6,
   "metadata": {},
   "outputs": [
    {
     "data": {
      "text/plain": [
       "31"
      ]
     },
     "execution_count": 6,
     "metadata": {},
     "output_type": "execute_result"
    }
   ],
   "source": [
    "# Build catalog items as type of list\n",
    "catalog = data['movieId'].unique().tolist()\n",
    "catalog[0]"
   ]
  },
  {
   "cell_type": "code",
   "execution_count": 7,
   "metadata": {},
   "outputs": [],
   "source": [
    "# Build item ID to item relations\n",
    "import csv\n",
    "\n",
    "table = {}\n",
    "filename = '../data/ml_small/movies.csv'\n",
    "with open(filename, newline='', encoding='ISO-8859-1') as file:\n",
    "    reader = csv.reader(file)\n",
    "    next(reader)\n",
    "    for line in reader:\n",
    "        iid = int(line[0])\n",
    "        tag = line[1]\n",
    "        table[iid] = tag"
   ]
  },
  {
   "cell_type": "markdown",
   "metadata": {},
   "source": [
    "### Load data into Surprise library"
   ]
  },
  {
   "cell_type": "code",
   "execution_count": 8,
   "metadata": {},
   "outputs": [
    {
     "name": "stdout",
     "output_type": "stream",
     "text": [
      "Set rating scale to:  0.5 5.0\n"
     ]
    }
   ],
   "source": [
    "from surprise import Dataset\n",
    "from surprise import Reader\n",
    "\n",
    "min_rating = data['rating'].min()\n",
    "max_rating = data['rating'].max()\n",
    "print(\"Set rating scale to: \", min_rating, max_rating)\n",
    "\n",
    "reader = Reader(rating_scale=(min_rating, max_rating))\n",
    "ratings = Dataset.load_from_df(data, reader)"
   ]
  },
  {
   "cell_type": "markdown",
   "metadata": {},
   "source": [
    "### Compare recommender engines using *mypkg* package"
   ]
  },
  {
   "cell_type": "code",
   "execution_count": 9,
   "metadata": {},
   "outputs": [],
   "source": [
    "# Declare the local path of the package\n",
    "import sys\n",
    "sys.path.append(r'../src/mypkg')\n",
    "# Load the module\n",
    "from comparer import comparer"
   ]
  },
  {
   "cell_type": "code",
   "execution_count": 10,
   "metadata": {},
   "outputs": [],
   "source": [
    "import random\n",
    "np.random.seed(0)\n",
    "random.seed(0)"
   ]
  },
  {
   "cell_type": "code",
   "execution_count": 11,
   "metadata": {},
   "outputs": [
    {
     "name": "stdout",
     "output_type": "stream",
     "text": [
      "Estimating biases using als...\n",
      "Computing the cosine similarity matrix...\n",
      "Done computing similarity matrix.\n"
     ]
    }
   ],
   "source": [
    "# Construct a comparer class\n",
    "cmp = comparer(data=ratings, rankings=rankings, catalog=catalog)"
   ]
  },
  {
   "cell_type": "code",
   "execution_count": 13,
   "metadata": {},
   "outputs": [],
   "source": [
    "from surprise import NormalPredictor\n",
    "from surprise import SVD\n",
    "from bprs import BPR\n",
    "\n",
    "# Reset algorithms queue\n",
    "cmp.reset()\n",
    "\n",
    "# Add a random recommender\n",
    "random = NormalPredictor()\n",
    "cmp.addAlgorithm(random, \"Random\")\n",
    "\n",
    "# Add an SVD recommender\n",
    "svd = SVD(random_state=10)\n",
    "cmp.addAlgorithm(svd, \"SVD\")\n",
    "\n",
    "# Add a BPR recommender\n",
    "bpr = BPR(verbose=False)\n",
    "cmp.addAlgorithm(bpr, \"BPR\")"
   ]
  },
  {
   "cell_type": "code",
   "execution_count": 14,
   "metadata": {},
   "outputs": [],
   "source": [
    "# Enable top-n ranking metrics\n",
    "metrics = ['HR', 'MRR', 'Cov', 'Div', 'Nov']\n",
    "cmp.doTopN(n=10, enable=True)"
   ]
  },
  {
   "cell_type": "code",
   "execution_count": 15,
   "metadata": {},
   "outputs": [
    {
     "name": "stdout",
     "output_type": "stream",
     "text": [
      "compare: evaluating Random...\n",
      "eval: hit-rate and ranking metrics...\n",
      "eval: coverage and novelty metrics...\n",
      "Computing the cosine similarity matrix...\n",
      "Done computing similarity matrix.\n",
      "eval: complete [Random]\n",
      "compare: evaluating SVD...\n",
      "eval: hit-rate and ranking metrics...\n",
      "eval: coverage and novelty metrics...\n",
      "Computing the cosine similarity matrix...\n",
      "Done computing similarity matrix.\n",
      "eval: complete [SVD]\n",
      "compare: evaluating BPR...\n",
      "bpr: training...\n"
     ]
    },
    {
     "name": "stderr",
     "output_type": "stream",
     "text": [
      "2023-06-19 11:52:53.782273: I tensorflow/core/platform/cpu_feature_guard.cc:193] This TensorFlow binary is optimized with oneAPI Deep Neural Network Library (oneDNN) to use the following CPU instructions in performance-critical operations:  SSE4.1 SSE4.2 AVX AVX2 FMA\n",
      "To enable them in other operations, rebuild TensorFlow with the appropriate compiler flags.\n",
      "100%|██████████████████████████████| 1/1 [00:06<00:00,  6.46s/epoch, loss=0.609]\n"
     ]
    },
    {
     "name": "stdout",
     "output_type": "stream",
     "text": [
      "eval: hit-rate and ranking metrics...\n",
      "bpr: training...\n"
     ]
    },
    {
     "name": "stderr",
     "output_type": "stream",
     "text": [
      "100%|██████████████████████████████| 1/1 [00:06<00:00,  6.81s/epoch, loss=0.615]\n"
     ]
    },
    {
     "name": "stdout",
     "output_type": "stream",
     "text": [
      "eval: coverage and novelty metrics...\n",
      "Computing the cosine similarity matrix...\n",
      "Done computing similarity matrix.\n",
      "eval: complete [BPR]\n"
     ]
    }
   ],
   "source": [
    "# Compare performance of recommenders\n",
    "result = cmp.compare(metrics=metrics)"
   ]
  },
  {
   "cell_type": "code",
   "execution_count": 16,
   "metadata": {},
   "outputs": [
    {
     "name": "stdout",
     "output_type": "stream",
     "text": [
      "Engine    HR        MRR       Cov       Div       Nov       \n",
      "Random    0.0089    0.0019    0.0312    0.071     951.2088  \n",
      "SVD       0.0313    0.0114    0.0424    0.0462    1646.8794 \n",
      "BPR       0.1013    0.042     0.0139    0.0347    1034.0256 \n"
     ]
    }
   ],
   "source": [
    "# Summarize performance of recommenders\n",
    "cmp.summary(result)"
   ]
  },
  {
   "cell_type": "code",
   "execution_count": 17,
   "metadata": {},
   "outputs": [],
   "source": [
    "# Specify a customer ID\n",
    "user = 85"
   ]
  },
  {
   "cell_type": "code",
   "execution_count": 18,
   "metadata": {},
   "outputs": [
    {
     "name": "stdout",
     "output_type": "stream",
     "text": [
      "\n",
      "sample: selecting recommender algorithm:  Random\n",
      "sample: top-n recommendations for user: 85\n",
      "Sleepers (1996)\n",
      "Gandhi (1982)\n",
      "First Knight (1995)\n",
      "Houseguest (1994)\n",
      "Like Water for Chocolate (Como agua para chocolate) (1992)\n",
      "Harold and Maude (1971)\n",
      "Blade Runner (1982)\n",
      "Vertigo (1958)\n",
      "Bedknobs and Broomsticks (1971)\n",
      "Goodfellas (1990)\n",
      "\n",
      "sample: selecting recommender algorithm:  SVD\n",
      "sample: top-n recommendations for user: 85\n",
      "All About Eve (1950)\n",
      "Star Wars: Episode V - The Empire Strikes Back (1980)\n",
      "Fight Club (1999)\n",
      "Cool Hand Luke (1967)\n",
      "Goodfellas (1990)\n",
      "Hachiko: A Dog's Story (a.k.a. Hachi: A Dog's Tale) (2009)\n",
      "General, The (1926)\n",
      "African Queen, The (1951)\n",
      "Graduate, The (1967)\n",
      "When We Were Kings (1996)\n",
      "\n",
      "sample: selecting recommender algorithm:  BPR\n",
      "bpr: training...\n"
     ]
    },
    {
     "name": "stderr",
     "output_type": "stream",
     "text": [
      "100%|██████████████████████████████| 1/1 [00:05<00:00,  5.99s/epoch, loss=0.605]\n"
     ]
    },
    {
     "name": "stdout",
     "output_type": "stream",
     "text": [
      "sample: top-n recommendations for user: 85\n",
      "Star Wars: Episode IV - A New Hope (1977)\n",
      "Matrix, The (1999)\n",
      "Seven (a.k.a. Se7en) (1995)\n",
      "Star Wars: Episode VI - Return of the Jedi (1983)\n",
      "Fight Club (1999)\n",
      "Lord of the Rings: The Fellowship of the Ring, The (2001)\n",
      "Raiders of the Lost Ark (Indiana Jones and the Raiders of the Lost Ark) (1981)\n",
      "Apollo 13 (1995)\n",
      "Usual Suspects, The (1995)\n",
      "Sixth Sense, The (1999)\n"
     ]
    }
   ],
   "source": [
    "# Return top-n recommendations for this user\n",
    "cmp.sampleTopN(table, user)"
   ]
  },
  {
   "cell_type": "code",
   "execution_count": 20,
   "metadata": {},
   "outputs": [
    {
     "name": "stdout",
     "output_type": "stream",
     "text": [
      "bpr: training...\n"
     ]
    },
    {
     "name": "stderr",
     "output_type": "stream",
     "text": [
      "100%|██████████████████████████████| 1/1 [00:06<00:00,  6.58s/epoch, loss=0.617]\n"
     ]
    },
    {
     "name": "stdout",
     "output_type": "stream",
     "text": [
      "BPR recommendations for user: 85\n",
      "Star Wars: Episode IV - A New Hope (1977)\n",
      "Seven (a.k.a. Se7en) (1995)\n",
      "Matrix, The (1999)\n",
      "Toy Story (1995)\n",
      "Fargo (1996)\n",
      "Raiders of the Lost Ark (Indiana Jones and the Raiders of the Lost Ark) (1981)\n",
      "Usual Suspects, The (1995)\n",
      "Men in Black (a.k.a. MIB) (1997)\n",
      "Star Wars: Episode V - The Empire Strikes Back (1980)\n",
      "Godfather, The (1972)\n"
     ]
    }
   ],
   "source": [
    "# Deploy SVD model for recommendation\n",
    "from deployer import deployer\n",
    "dpr = deployer(bpr, \"BPR\")\n",
    "dpr.build(ratings)\n",
    "top = dpr.get(table, user)"
   ]
  },
  {
   "cell_type": "markdown",
   "metadata": {},
   "source": [
    "### Supplementary function"
   ]
  },
  {
   "cell_type": "code",
   "execution_count": null,
   "metadata": {},
   "outputs": [],
   "source": []
  }
 ],
 "metadata": {
  "kernelspec": {
   "display_name": "Python 3 (ipykernel)",
   "language": "python",
   "name": "python3"
  },
  "language_info": {
   "codemirror_mode": {
    "name": "ipython",
    "version": 3
   },
   "file_extension": ".py",
   "mimetype": "text/x-python",
   "name": "python",
   "nbconvert_exporter": "python",
   "pygments_lexer": "ipython3",
   "version": "3.8.16"
  }
 },
 "nbformat": 4,
 "nbformat_minor": 4
}
